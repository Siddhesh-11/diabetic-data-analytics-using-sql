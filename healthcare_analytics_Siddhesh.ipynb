{
 "cells": [
  {
   "cell_type": "markdown",
   "id": "2d0c6a19",
   "metadata": {},
   "source": [
    "# Comprehensive Healthcare Data Analysis Using SQL\n",
    "\n",
    "**By:** Siddhesh Mishra\n",
    "\n",
    "**Date:** July 17, 2024\n",
    "\n",
    "**Introduction:**\n",
    "In the modern healthcare landscape, data analytics plays a crucial role in enhancing patient care, optimizing resource management, and ensuring financial sustainability. This project leverages SQL to conduct an in-depth analysis of healthcare data, providing valuable insights that can drive informed decision-making and improve hospital operations.\n",
    "\n",
    "**The Backstory:**\n",
    "Data analytics offers transformative benefits for the healthcare industry, including:\n",
    "\n",
    "1. **Proactive Health Management:** By analyzing patient data, hospitals can identify at-risk patients early and implement preventive measures. This proactive approach can reduce the incidence of severe health issues and improve overall patient health outcomes.\n",
    "2. **Operational Efficiency:** Data analytics helps streamline hospital operations by optimizing staffing, reducing wait times, and improving patient flow. Efficient resource management leads to better patient care and reduced operational costs.\n",
    "3. **Personalized Medical Care:** Utilizing data to understand individual patient needs and responses to treatments enables hospitals to provide personalized medical care. This tailored approach enhances treatment effectiveness and patient satisfaction.\n",
    "\n",
    "Balancing cost control with delivering high-quality patient care is a persistent challenge for hospitals. This requires a data-centric approach focused on continuous improvement. Effective cost management is essential for the hospital's financial health. Key metrics such as Facility Utilization—encompassing occupancy rates, patient stay durations, and bed utilization—are crucial for reducing overhead costs and increasing revenue.\n",
    "\n",
    "**The Scenario:**\n",
    "As a Data Scientist at a hospital, you have been tasked by the C-Suite to prepare a detailed report addressing the following questions:\n",
    "- What is the typical length of stay for patients in the hospital?\n",
    "- Is there a correlation between the number of lab procedures and the duration of hospital stay?\n",
    "- What are the different racial groups present in the dataset, and how are they distributed in terms of lab procedures?\n",
    "- What are the gender distributions in the dataset?\n",
    "- Which medical specialties have the highest average number of procedures?\n",
    "- What is the readmission rate for different medical specialties?\n",
    "- Which age groups have the highest average number of procedures and medications?\n",
    "\n",
    "**The Data:**\n",
    "The dataset for this project, sourced from a Kaggle challenge on predicting hospital readmission rates for diabetic patients, includes clinical care data from 130 U.S. hospitals over a ten-year period (1998 - 2008). It comprises two tables: one with demographic information and the other with health and clinical care data.\n",
    "\n",
    "**Purpose and Approach:**\n",
    "This project aims to practice advanced SQL techniques to extract and analyze meaningful insights from the dataset. Techniques used in this project include:\n",
    "- **JOINS** to combine data from multiple tables.\n",
    "- **CASE statements** to create conditional logic within queries.\n",
    "- **HAVING clauses** to filter groups of rows.\n",
    "- **Subqueries** to perform operations on the results of other queries.\n",
    "- **Common Table Expressions (CTEs)** to simplify complex queries.\n",
    "- **Correlated Subqueries** to refer to columns from the outer query.\n",
    "- **Aggregate Functions** to calculate averages, counts, and sums.\n",
    "The goal is to apply these skills to real-world data, providing actionable recommendations to improve hospital performance.\n"
   ]
  },
  {
   "cell_type": "code",
   "execution_count": 1,
   "id": "95eff574",
   "metadata": {},
   "outputs": [
    {
     "name": "stdout",
     "output_type": "stream",
     "text": [
      "Health Table:\n",
      "        encounter_id  patient_nbr  admission_type_id  \\\n",
      "0            2278392      8222157                  6   \n",
      "1             149190     55629189                  1   \n",
      "2              64410     86047875                  1   \n",
      "3             500364     82442376                  1   \n",
      "4              16680     42519267                  1   \n",
      "...              ...          ...                ...   \n",
      "101761     443847548    100162476                  1   \n",
      "101762     443847782     74694222                  1   \n",
      "101763     443854148     41088789                  1   \n",
      "101764     443857166     31693671                  2   \n",
      "101765     443867222    175429310                  1   \n",
      "\n",
      "        discharge_disposition_id  admission_source_id  time_in_hospital  \\\n",
      "0                             25                    1                 1   \n",
      "1                              1                    7                 3   \n",
      "2                              1                    7                 2   \n",
      "3                              1                    7                 2   \n",
      "4                              1                    7                 1   \n",
      "...                          ...                  ...               ...   \n",
      "101761                         3                    7                 3   \n",
      "101762                         4                    5                 5   \n",
      "101763                         1                    7                 1   \n",
      "101764                         3                    7                10   \n",
      "101765                         1                    7                 6   \n",
      "\n",
      "       payer_code         medical_specialty  num_lab_procedures  \\\n",
      "0               ?  Pediatrics-Endocrinology                  41   \n",
      "1               ?                         ?                  59   \n",
      "2               ?                         ?                  11   \n",
      "3               ?                         ?                  44   \n",
      "4               ?                         ?                  51   \n",
      "...           ...                       ...                 ...   \n",
      "101761         MC                         ?                  51   \n",
      "101762         MC                         ?                  33   \n",
      "101763         MC                         ?                  53   \n",
      "101764         MC           Surgery-General                  45   \n",
      "101765          ?                         ?                  13   \n",
      "\n",
      "        num_procedures  ...  citoglipton  insulin  glyburide-metformin  \\\n",
      "0                    0  ...           No       No                   No   \n",
      "1                    0  ...           No       Up                   No   \n",
      "2                    5  ...           No       No                   No   \n",
      "3                    1  ...           No       Up                   No   \n",
      "4                    0  ...           No   Steady                   No   \n",
      "...                ...  ...          ...      ...                  ...   \n",
      "101761               0  ...           No     Down                   No   \n",
      "101762               3  ...           No   Steady                   No   \n",
      "101763               0  ...           No     Down                   No   \n",
      "101764               2  ...           No       Up                   No   \n",
      "101765               3  ...           No       No                   No   \n",
      "\n",
      "        glipizide-metformin glimepiride-pioglitazone metformin-rosiglitazone  \\\n",
      "0                        No                       No                      No   \n",
      "1                        No                       No                      No   \n",
      "2                        No                       No                      No   \n",
      "3                        No                       No                      No   \n",
      "4                        No                       No                      No   \n",
      "...                     ...                      ...                     ...   \n",
      "101761                   No                       No                      No   \n",
      "101762                   No                       No                      No   \n",
      "101763                   No                       No                      No   \n",
      "101764                   No                       No                      No   \n",
      "101765                   No                       No                      No   \n",
      "\n",
      "       metformin-pioglitazone  change diabetesMed readmitted  \n",
      "0                          No      No          No         NO  \n",
      "1                          No      Ch         Yes        >30  \n",
      "2                          No      No         Yes         NO  \n",
      "3                          No      Ch         Yes         NO  \n",
      "4                          No      Ch         Yes         NO  \n",
      "...                       ...     ...         ...        ...  \n",
      "101761                     No      Ch         Yes        >30  \n",
      "101762                     No      No         Yes         NO  \n",
      "101763                     No      Ch         Yes         NO  \n",
      "101764                     No      Ch         Yes         NO  \n",
      "101765                     No      No          No         NO  \n",
      "\n",
      "[101766 rows x 46 columns]\n",
      "\n",
      " Demographics Table:\n",
      "        row_no  patient_nbr             race  gender      age weight\n",
      "0            2      8222157        Caucasian  Female   [0-10)      ?\n",
      "1            3     55629189        Caucasian  Female  [10-20)      ?\n",
      "2            4     86047875  AfricanAmerican  Female  [20-30)      ?\n",
      "3            5     82442376        Caucasian    Male  [30-40)      ?\n",
      "4            6     42519267        Caucasian    Male  [40-50)      ?\n",
      "...        ...          ...              ...     ...      ...    ...\n",
      "101761  101763    100162476  AfricanAmerican    Male  [70-80)      ?\n",
      "101762  101764     74694222  AfricanAmerican  Female  [80-90)      ?\n",
      "101763  101765     41088789        Caucasian    Male  [70-80)      ?\n",
      "101764  101766     31693671        Caucasian  Female  [80-90)      ?\n",
      "101765  101767    175429310        Caucasian    Male  [70-80)      ?\n",
      "\n",
      "[101766 rows x 6 columns]\n"
     ]
    }
   ],
   "source": [
    "import pandas as pd\n",
    "import sqlite3\n",
    "\n",
    "# Load your CSV files into pandas DataFrames\n",
    "file1 = r'C:\\Users\\HP\\OneDrive\\Desktop\\healthcare_sql\\health.csv'\n",
    "file2 = r'C:\\Users\\HP\\OneDrive\\Desktop\\healthcare_sql\\demographics.csv'\n",
    "\n",
    "df1 = pd.read_csv(file1)\n",
    "df2 = pd.read_csv(file2)\n",
    "\n",
    "# Connect to SQLite database (or create it if it doesn't exist)\n",
    "conn = sqlite3.connect('healthcare_project.db')\n",
    "\n",
    "# Write the DataFrames to the SQLite database\n",
    "df1.to_sql('health', conn, if_exists='replace', index=False)\n",
    "df2.to_sql('demographics', conn, if_exists='replace', index=False)\n",
    "\n",
    "# Verify the tables were created correctly\n",
    "query1 = pd.read_sql_query(\"SELECT * FROM health;\", conn)\n",
    "query2 = pd.read_sql_query(\"SELECT * FROM demographics;\", conn)\n",
    "\n",
    "print(\"Health Table:\")\n",
    "print(query1)\n",
    "\n",
    "print(\"\\n Demographics Table:\")\n",
    "print(query2)\n",
    "\n"
   ]
  },
  {
   "cell_type": "markdown",
   "id": "8acc220c",
   "metadata": {},
   "source": [
    "#### Analysis 1: Total Number of Records in the Dataset\n",
    "This analysis calculates the total number of records in the `health` table. \n"
   ]
  },
  {
   "cell_type": "code",
   "execution_count": 2,
   "id": "9d5c2794",
   "metadata": {},
   "outputs": [
    {
     "name": "stdout",
     "output_type": "stream",
     "text": [
      "Number of records in the dataset:\n",
      "    count\n",
      "0  101766\n"
     ]
    }
   ],
   "source": [
    "query3 = \"SELECT COUNT(*) AS count FROM health;\"\n",
    "df_count_health = pd.read_sql_query(query3, conn)\n",
    "print(\"Number of records in the dataset:\")\n",
    "print(df_count_health)"
   ]
  },
  {
   "cell_type": "markdown",
   "id": "25f0fbbe",
   "metadata": {},
   "source": [
    "Setting '?' values in the dataset to NULL values so they can be used in the analysis."
   ]
  },
  {
   "cell_type": "code",
   "execution_count": 3,
   "id": "1a60747c",
   "metadata": {},
   "outputs": [],
   "source": [
    "cursor = conn.cursor()\n",
    "update_queries = [\n",
    "    \"UPDATE demographics SET race = NULL WHERE race = '?';\",\n",
    "    \"UPDATE demographics SET gender = NULL WHERE gender = '?';\",\n",
    "    \"UPDATE health SET medical_specialty = NULL WHERE medical_specialty = '?';\",\n",
    "    \"UPDATE health SET payer_code = NULL WHERE payer_code = '?';\"\n",
    "]\n",
    "\n",
    "for query in update_queries:\n",
    "    cursor.execute(query)\n",
    "    \n",
    "conn.commit()"
   ]
  },
  {
   "cell_type": "markdown",
   "id": "ca807ce7",
   "metadata": {},
   "source": [
    "#### Analysis 2: Distinct Values in Demographics and Medical Specialties\n",
    "This analysis retrieves the distinct values for race, gender, and medical specialty present in the dataset. By identifying the unique categories within these fields, we can better understand the diversity of the patient population and the variety of medical specialties covered in the data."
   ]
  },
  {
   "cell_type": "code",
   "execution_count": 4,
   "id": "84e5b7a5",
   "metadata": {},
   "outputs": [
    {
     "name": "stdout",
     "output_type": "stream",
     "text": [
      "List of races present in the data:\n",
      "              race\n",
      "0        Caucasian\n",
      "1  AfricanAmerican\n",
      "2            Other\n",
      "3            Asian\n",
      "4         Hispanic\n",
      "\n",
      "List of genders present in the data:\n",
      "            gender\n",
      "0           Female\n",
      "1             Male\n",
      "2  Unknown/Invalid\n",
      "\n",
      "List of medical specialties present in the data:\n",
      "           medical_specialty\n",
      "0   Pediatrics-Endocrinology\n",
      "1           InternalMedicine\n",
      "2     Family/GeneralPractice\n",
      "3                 Cardiology\n",
      "4            Surgery-General\n",
      "..                       ...\n",
      "67              Perinatology\n",
      "68           Neurophysiology\n",
      "69  Endocrinology-Metabolism\n",
      "70                   DCPTEAM\n",
      "71                  Resident\n",
      "\n",
      "[72 rows x 1 columns]\n"
     ]
    }
   ],
   "source": [
    "query4 = \"SELECT DISTINCT race FROM demographics WHERE race IS NOT NULL;\"\n",
    "query5 = \"SELECT DISTINCT gender FROM demographics;\"\n",
    "query6 = \"SELECT DISTINCT medical_specialty FROM health WHERE medical_specialty IS NOT NULL;\"\n",
    "df_distinct_race = pd.read_sql_query(query4, conn)\n",
    "df_distinct_gender = pd.read_sql_query(query5, conn)\n",
    "df_distinct_specialty = pd.read_sql_query(query6, conn)\n",
    "print(\"List of races present in the data:\")\n",
    "print(df_distinct_race)\n",
    "print(\"\\nList of genders present in the data:\")\n",
    "print(df_distinct_gender)\n",
    "print(\"\\nList of medical specialties present in the data:\")\n",
    "print(df_distinct_specialty)"
   ]
  },
  {
   "cell_type": "markdown",
   "id": "d0458b50",
   "metadata": {},
   "source": [
    "#### Analysis 3: Number of Encounters per Medical Specialty and Average Time in Hospital\n"
   ]
  },
  {
   "cell_type": "code",
   "execution_count": 5,
   "id": "4dc76b8c",
   "metadata": {},
   "outputs": [
    {
     "name": "stdout",
     "output_type": "stream",
     "text": [
      "Number of records for each medical specialty:\n",
      "                   medical_specialty  encounter_count\n",
      "0               AllergyandImmunology                7\n",
      "1                     Anesthesiology               12\n",
      "2           Anesthesiology-Pediatric               19\n",
      "3                         Cardiology             5352\n",
      "4               Cardiology-Pediatric                7\n",
      "..                               ...              ...\n",
      "67  Surgery-PlasticwithinHeadandNeck                1\n",
      "68                  Surgery-Thoracic              109\n",
      "69                  Surgery-Vascular              533\n",
      "70                 SurgicalSpecialty               33\n",
      "71                           Urology              685\n",
      "\n",
      "[72 rows x 2 columns]\n",
      "\n",
      "Average time in hospital for all patients:\n",
      "   avg_time_in_hospital\n",
      "0              4.395987\n"
     ]
    }
   ],
   "source": [
    "query7 = \"\"\"\n",
    "SELECT medical_specialty,\n",
    "COUNT(*) AS encounter_count\n",
    "FROM health\n",
    "WHERE medical_specialty IS NOT NULL\n",
    "GROUP BY medical_specialty;\"\"\"\n",
    "\n",
    "query8 = \"SELECT AVG(time_in_hospital) AS avg_time_in_hospital FROM health;\"\n",
    "\n",
    "df_encounters_per_specialty = pd.read_sql_query(query7, conn)\n",
    "df_avg_time_in_hospital = pd.read_sql_query(query8, conn)\n",
    "\n",
    "print(\"Number of records for each medical specialty:\")\n",
    "print(df_encounters_per_specialty)\n",
    "print(\"\\nAverage time in hospital for all patients:\")\n",
    "print(df_avg_time_in_hospital)"
   ]
  },
  {
   "cell_type": "markdown",
   "id": "1ba09540",
   "metadata": {},
   "source": [
    "#### Analysis 4: Number of Encounters Categorized by Race\n",
    "This analysis calculates the number of encounters categorized by race. By grouping the data by race, we can gain insights into the distribution of healthcare encounters among different racial groups.\n"
   ]
  },
  {
   "cell_type": "code",
   "execution_count": 30,
   "id": "145c993d",
   "metadata": {},
   "outputs": [
    {
     "name": "stdout",
     "output_type": "stream",
     "text": [
      "Number of encounters categorized by race:\n",
      "   encounter_count             race\n",
      "0           171053        Caucasian\n",
      "1            47271  AfricanAmerican\n",
      "2             4194         Hispanic\n",
      "3             3337             None\n",
      "4             2799            Other\n",
      "5             1238            Asian\n"
     ]
    }
   ],
   "source": [
    "query9 = \"\"\"\n",
    "SELECT COUNT(*) AS encounter_count,d.race\n",
    "FROM health h JOIN demographics d ON h.patient_nbr = d.patient_nbr\n",
    "GROUP BY d.race\n",
    "ORDER BY encounter_count DESC;\n",
    "\"\"\"\n",
    "\n",
    "df_encounters_by_race = pd.read_sql_query(query9, conn)\n",
    "print(\"Number of encounters categorized by race:\")\n",
    "print(df_encounters_by_race)"
   ]
  },
  {
   "cell_type": "markdown",
   "id": "23dd5bea",
   "metadata": {},
   "source": [
    "\n",
    "The analysis indicates that the majority of healthcare encounters involve Caucasian and African American patients, with Hispanic, Other, and Asian patients representing smaller portions of the patient population. A notable number of encounters are uncategorized, highlighting a need for improved data collection. These insights suggest that healthcare facilities should prioritize resources and interventions for the predominant groups while also addressing the needs of smaller racial groups and enhancing data accuracy to better understand and mitigate healthcare disparities."
   ]
  },
  {
   "cell_type": "markdown",
   "id": "00e10354",
   "metadata": {},
   "source": [
    "#### Analysis 5: Average Number of Lab Procedures by Age Group\n",
    "This analysis calculates the average number of lab procedures performed for each age group. By grouping the data by age, we can gain insights into how the use of lab procedures varies across different age demographics.\n"
   ]
  },
  {
   "cell_type": "code",
   "execution_count": 29,
   "id": "747af36e",
   "metadata": {},
   "outputs": [
    {
     "name": "stdout",
     "output_type": "stream",
     "text": [
      "Average number of lab procedures by age:\n",
      "   avg_lab_procedures       age\n",
      "0           40.508475    [0-10)\n",
      "1           44.776887   [10-20)\n",
      "2           41.227052   [20-30)\n",
      "3           43.516695   [30-40)\n",
      "4           43.239461   [40-50)\n",
      "5           42.884059   [50-60)\n",
      "6           42.970463   [60-70)\n",
      "7           43.008460   [70-80)\n",
      "8           43.144321   [80-90)\n",
      "9           43.337536  [90-100)\n"
     ]
    }
   ],
   "source": [
    "query10 = \"\"\"\n",
    "SELECT AVG(h.num_lab_procedures) AS avg_lab_procedures, d.age\n",
    "FROM health h JOIN demographics d ON h.patient_nbr = d.patient_nbr\n",
    "GROUP BY d.age;\n",
    "\"\"\"\n",
    "\n",
    "df_avg_lab_procedures_by_age = pd.read_sql_query(query10, conn)\n",
    "print(\"Average number of lab procedures by age:\")\n",
    "print(df_avg_lab_procedures_by_age)"
   ]
  },
  {
   "cell_type": "markdown",
   "id": "fcd1b72c",
   "metadata": {},
   "source": [
    "The analysis indicates that the average number of lab procedures is relatively consistent across different age groups, suggesting that diagnostic testing is uniformly distributed among patients of varying ages. This consistency implies that healthcare providers administer a similar amount of lab procedures regardless of age, which can inform resource allocation and service planning to ensure that lab services are adequately provided for all age demographics."
   ]
  },
  {
   "cell_type": "markdown",
   "id": "73c6a738",
   "metadata": {},
   "source": [
    "#### Analysis 6: Categorizing Patients by Length of Hospital Stay\n",
    "This analysis categorizes patients based on their length of hospital stay into three categories: 'Short stay', 'Medium stay', and 'Long stay'. This categorization helps to understand the distribution of patient stays and identify patterns related to different lengths of hospitalization.\n"
   ]
  },
  {
   "cell_type": "code",
   "execution_count": 28,
   "id": "5ef57b59",
   "metadata": {},
   "outputs": [
    {
     "name": "stdout",
     "output_type": "stream",
     "text": [
      "Patient length of stay:\n",
      "        patient_nbr  time_in_hospital  stay_length\n",
      "0           8222157                 1   Short stay\n",
      "1          55629189                 3  Medium stay\n",
      "2          86047875                 2   Short stay\n",
      "3          82442376                 2   Short stay\n",
      "4          42519267                 1   Short stay\n",
      "...             ...               ...          ...\n",
      "101761    100162476                 3  Medium stay\n",
      "101762     74694222                 5  Medium stay\n",
      "101763     41088789                 1   Short stay\n",
      "101764     31693671                10    Long stay\n",
      "101765    175429310                 6  Medium stay\n",
      "\n",
      "[101766 rows x 3 columns]\n"
     ]
    }
   ],
   "source": [
    "query11 = \"\"\"\n",
    "SELECT patient_nbr, time_in_hospital,\n",
    "CASE WHEN time_in_hospital < 3 THEN 'Short stay' \n",
    "     WHEN time_in_hospital BETWEEN 3 AND 7 THEN 'Medium stay' \n",
    "     ELSE 'Long stay' END AS stay_length FROM health;\n",
    "\"\"\"\n",
    "\n",
    "df_stay_length = pd.read_sql_query(query11, conn)\n",
    "print(\"Patient length of stay:\")\n",
    "print(df_stay_length)"
   ]
  },
  {
   "cell_type": "markdown",
   "id": "3ed73654",
   "metadata": {},
   "source": [
    "#### Analysis 7: Average Length of Stay for Readmitted Patients\n",
    "This analysis calculates the average length of stay in the hospital for patients who were readmitted. By focusing on readmitted patients, we can gain insights into how long these patients typically stay in the hospital, which can help in understanding and addressing factors related to readmissions."
   ]
  },
  {
   "cell_type": "code",
   "execution_count": 31,
   "id": "fa3a31ab",
   "metadata": {},
   "outputs": [
    {
     "name": "stdout",
     "output_type": "stream",
     "text": [
      "Average length of stay for patients who were readmitted:\n",
      "   avg_stay\n",
      "0  4.574637\n"
     ]
    }
   ],
   "source": [
    "query12 = \"\"\"\n",
    "SELECT AVG(time_in_hospital) AS avg_stay\n",
    "FROM health\n",
    "WHERE patient_nbr IN \n",
    "    (SELECT patient_nbr FROM health WHERE readmitted != 'NO');\n",
    "\"\"\"\n",
    "\n",
    "df_avg_stay_readmitted = pd.read_sql_query(query12, conn)\n",
    "print(\"Average length of stay for patients who were readmitted:\")\n",
    "print(df_avg_stay_readmitted)"
   ]
  },
  {
   "cell_type": "markdown",
   "id": "0ce0d9d3",
   "metadata": {},
   "source": [
    "The analysis reveals that the average time in the hospital for all patients is approximately 4.4 days, while the average length of stay for patients who were readmitted is slightly higher at around 4.6 days. This indicates that patients who are readmitted tend to have longer initial hospital stays compared to the general patient population. This difference suggests that patients with more complex or severe conditions, who require longer initial stays, may be at a higher risk of readmission. Understanding this can help healthcare providers focus on improving care and discharge planning for patients with extended hospital stays to potentially reduce readmission rates."
   ]
  },
  {
   "cell_type": "markdown",
   "id": "8d315181",
   "metadata": {},
   "source": [
    "#### Analysis 8: Average Procedures and Medications by Age Group\n",
    "This analysis calculates the average number of procedures and medications for each age group. By grouping the data by age, we can gain insights into how medical interventions vary across different age groups.\n"
   ]
  },
  {
   "cell_type": "code",
   "execution_count": 20,
   "id": "f610e6fa",
   "metadata": {},
   "outputs": [
    {
     "name": "stdout",
     "output_type": "stream",
     "text": [
      "        age  avg_procedures  avg_medications\n",
      "0    [0-10)             0.2              6.1\n",
      "1   [10-20)             0.3              9.1\n",
      "2   [20-30)             0.6             12.6\n",
      "3   [30-40)             1.0             14.8\n",
      "4   [40-50)             1.2             16.3\n",
      "5   [50-60)             1.4             17.4\n",
      "6   [60-70)             1.4             17.7\n",
      "7   [70-80)             1.2             16.7\n",
      "8   [80-90)             0.9             15.7\n",
      "9  [90-100)             0.7             13.6\n"
     ]
    }
   ],
   "source": [
    "query13 = \"\"\"\n",
    "SELECT d.age, \n",
    "       ROUND(AVG(h.num_procedures), 1) AS avg_procedures, \n",
    "       ROUND(AVG(h.num_medications), 1) AS avg_medications\n",
    "FROM health h\n",
    "JOIN demographics d ON h.patient_nbr = d.patient_nbr\n",
    "GROUP BY d.age\n",
    "ORDER BY d.age;\n",
    "\"\"\"\n",
    "df_avg_by_age = pd.read_sql_query(query13, conn)\n",
    "print(df_avg_by_age)"
   ]
  },
  {
   "cell_type": "markdown",
   "id": "3d43cb27",
   "metadata": {},
   "source": [
    "The analysis indicates that the average number of procedures and medications both tend to increase with age, peaking in the 60-70 age range for procedures and in the 60-70 age range for medications, before declining in the older age groups. This trend suggests that middle-aged and older adults generally require more medical interventions and medications, reflecting higher healthcare needs in these age groups. The decline in the oldest age groups may be due to various factors, including different healthcare strategies or fewer aggressive treatments. "
   ]
  },
  {
   "cell_type": "markdown",
   "id": "302f5d13",
   "metadata": {},
   "source": [
    "#### Analysis 9: Top Medical Specialties by Average Number of Procedures\n",
    "This analysis identifies medical specialties with the highest average number of procedures. By calculating the average number of procedures per medical specialty and including only those specialties with more than 50 encounters, we ensure the results are statistically significant. This helps in understanding which specialties tend to involve more procedures on average, potentially indicating the complexity or intensity of care provided in those areas.\n"
   ]
  },
  {
   "cell_type": "code",
   "execution_count": 19,
   "id": "05aa44be",
   "metadata": {},
   "outputs": [
    {
     "name": "stdout",
     "output_type": "stream",
     "text": [
      "                    medical_specialty  avg_procedures  count\n",
      "0                    Surgery-Thoracic             3.5    109\n",
      "1     Surgery-Cardiovascular/Thoracic             3.2    652\n",
      "2                         Radiologist             3.2   1140\n",
      "3                          Cardiology             2.7   5352\n",
      "4                    Surgery-Vascular             2.6    533\n",
      "5                           Radiology             2.5     53\n",
      "6                            Podiatry             2.4    100\n",
      "7              Surgery-Cardiovascular             2.1     98\n",
      "8                           Neurology             2.1    203\n",
      "9                          Gynecology             2.1     58\n",
      "10                      Surgery-Neuro             1.9    468\n",
      "11                     Otolaryngology             1.9    125\n",
      "12                        Orthopedics             1.9   1400\n",
      "13            ObstetricsandGynecology             1.9    671\n",
      "14                            Urology             1.8    685\n",
      "15                         Nephrology             1.8   1613\n",
      "16         Orthopedics-Reconstructive             1.7   1233\n",
      "17                    Surgery-General             1.6   3099\n",
      "18                         Hematology             1.6     82\n",
      "19                   Gastroenterology             1.6    564\n",
      "20                   Emergency/Trauma             1.2   7565\n",
      "21                               None             1.2  49949\n",
      "22                           Oncology             1.1    348\n",
      "23                        Pulmonology             1.0    871\n",
      "24                   InternalMedicine             1.0  14635\n",
      "25                Hematology/Oncology             1.0    207\n",
      "26             Family/GeneralPractice             1.0   7440\n",
      "27                        Hospitalist             0.9     57\n",
      "28                      Endocrinology             0.9    120\n",
      "29  PhysicalMedicineandRehabilitation             0.7    391\n",
      "30                         Pediatrics             0.7    254\n",
      "31                         Psychiatry             0.4    854\n",
      "32                         Psychology             0.3    101\n",
      "33            Pediatrics-CriticalCare             0.1     87\n",
      "34           Pediatrics-Endocrinology             0.0    159\n"
     ]
    }
   ],
   "source": [
    "query14 = \"\"\"\n",
    "SELECT medical_specialty, \n",
    "       ROUND(AVG(num_procedures),1) AS avg_procedures, \n",
    "       COUNT(*) AS count\n",
    "FROM health\n",
    "GROUP BY medical_specialty\n",
    "HAVING COUNT(*) > 50\n",
    "ORDER BY avg_procedures DESC;\n",
    "\"\"\"\n",
    "df_avg_procedures = pd.read_sql_query(query14, conn)\n",
    "print(df_avg_procedures)"
   ]
  },
  {
   "cell_type": "markdown",
   "id": "50021c9e",
   "metadata": {},
   "source": [
    "The analysis indicates that medical specialties such as Surgery-Thoracic, Surgery-Cardiovascular/Thoracic, and Radiology have the highest average number of procedures, suggesting these specialties involve more complex or intensive treatments. In contrast, specialties like Psychiatry, Psychology, and Pediatrics-Endocrinology have the lowest average number of procedures, reflecting their focus on treatments that may not require many procedures. This variation in procedure intensity across specialties highlights the diverse nature of medical practices and can inform resource allocation, training, and strategic planning in healthcare facilities to cater to the specific needs of each specialty."
   ]
  },
  {
   "cell_type": "markdown",
   "id": "fb4b9e30",
   "metadata": {},
   "source": [
    "#### Analysis 10: Readmission Rate by Medical Specialty\n",
    "This analysis calculates the readmission rate for each medical specialty. We consider the medical specialties where the number of encounters are greater than 50 for statistically significant results. The goal of this analysis is to identify which medical specialties have the highest readmission rates, which can help in understanding and potentially addressing issues related to patient care in those specialties.\n"
   ]
  },
  {
   "cell_type": "code",
   "execution_count": 26,
   "id": "54eec477",
   "metadata": {},
   "outputs": [
    {
     "name": "stdout",
     "output_type": "stream",
     "text": [
      "                    medical_specialty  readmission_count  readmission_rate\n",
      "0                            Podiatry               58.0          0.580000\n",
      "1                          Nephrology              914.0          0.566646\n",
      "2                    Surgery-Vascular              274.0          0.514071\n",
      "3                    Emergency/Trauma             3852.0          0.509187\n",
      "4                 Hematology/Oncology              104.0          0.502415\n",
      "5                    Gastroenterology              276.0          0.489362\n",
      "6                         Pulmonology              424.0          0.486797\n",
      "7                            Oncology              166.0          0.477011\n",
      "8              Family/GeneralPractice             3546.0          0.476613\n",
      "9                     Surgery-General             1388.0          0.447886\n",
      "10                   InternalMedicine             6369.0          0.435190\n",
      "11                         Psychiatry              366.0          0.428571\n",
      "12                        Radiologist              486.0          0.426316\n",
      "13                         Cardiology             2278.0          0.425635\n",
      "14  PhysicalMedicineandRehabilitation              154.0          0.393862\n",
      "15                         Pediatrics               95.0          0.374016\n",
      "16                            Urology              253.0          0.369343\n",
      "17                        Orthopedics              478.0          0.341429\n",
      "18         Orthopedics-Reconstructive              385.0          0.312247\n",
      "19                          Neurology               58.0          0.285714\n",
      "20    Surgery-Cardiovascular/Thoracic              173.0          0.265337\n",
      "21                      Surgery-Neuro              108.0          0.230769\n",
      "22            ObstetricsandGynecology              142.0          0.211624\n",
      "23                      Endocrinology                NaN               NaN\n",
      "24                         Gynecology                NaN               NaN\n",
      "25                         Hematology                NaN               NaN\n",
      "26                        Hospitalist                NaN               NaN\n",
      "27                     Otolaryngology                NaN               NaN\n",
      "28            Pediatrics-CriticalCare                NaN               NaN\n",
      "29           Pediatrics-Endocrinology                NaN               NaN\n",
      "30                         Psychology                NaN               NaN\n",
      "31                          Radiology                NaN               NaN\n",
      "32             Surgery-Cardiovascular                NaN               NaN\n",
      "33                   Surgery-Thoracic                NaN               NaN\n"
     ]
    }
   ],
   "source": [
    "query15 = \"\"\"\n",
    "# CTE for readmissions\n",
    "WITH readmissions AS (\n",
    "    SELECT medical_specialty, COUNT(*) AS readmission_count\n",
    "    FROM health\n",
    "    WHERE readmitted != 'NO' \n",
    "    GROUP BY medical_specialty\n",
    "    HAVING COUNT(*) > 50\n",
    "),\n",
    "# CTE for encounters\n",
    "total_encounters AS (\n",
    "    SELECT medical_specialty, COUNT(*) AS total_count\n",
    "    FROM health\n",
    "    GROUP BY medical_specialty \n",
    "    HAVING COUNT(*) > 50\n",
    ")\n",
    "# Selecting data from CTEs\n",
    "SELECT t.medical_specialty, r.readmission_count,\n",
    "    (r.readmission_count * 1.0 / t.total_count) AS readmission_rate # \n",
    "FROM total_encounters t\n",
    "LEFT JOIN readmissions r ON t.medical_specialty = r.medical_specialty\n",
    "WHERE t.medical_specialty IS NOT NULL \n",
    "ORDER BY readmission_rate DESC;\n",
    "\"\"\"\n",
    "df_readmission_rate = pd.read_sql_query(query15, conn)\n",
    "print(df_readmission_rate)"
   ]
  },
  {
   "cell_type": "markdown",
   "id": "ca0d52da",
   "metadata": {},
   "source": [
    "The analysis indicates that medical specialties such as Podiatry, Nephrology, and Surgery-Vascular have the highest readmission rates, suggesting these specialties may involve conditions that require more follow-up care or have higher complications. In contrast, specialties like Surgery-Neuro, Obstetrics and Gynecology, and Pediatrics-CriticalCare have lower readmission rates, potentially indicating more effective initial treatments or lower complexity of cases. Specialties with no data (NaN values) for readmission rates need further investigation to understand if it's due to insufficient data or other factors. This information can help healthcare providers identify areas needing improvement and allocate resources to reduce readmission rates effectively."
   ]
  },
  {
   "cell_type": "markdown",
   "id": "8a400079",
   "metadata": {},
   "source": [
    "**Conclusion:**\n",
    "This project demonstrates the power of advanced SQL techniques in extracting actionable insights from healthcare data. By analyzing patient demographics, medical procedures, and hospital operations, we identified key patterns and correlations that can inform strategic decision-making. The findings highlight the importance of understanding patient length of stay, procedural loads, and readmission rates, providing a foundation for targeted interventions. Adopting a data-driven approach enables hospitals to enhance patient care, optimize resource utilization, and achieve sustainable improvements in patient outcomes and operational efficiency.\n"
   ]
  }
 ],
 "metadata": {
  "kernelspec": {
   "display_name": "Python 3 (ipykernel)",
   "language": "python",
   "name": "python3"
  },
  "language_info": {
   "codemirror_mode": {
    "name": "ipython",
    "version": 3
   },
   "file_extension": ".py",
   "mimetype": "text/x-python",
   "name": "python",
   "nbconvert_exporter": "python",
   "pygments_lexer": "ipython3",
   "version": "3.8.17"
  }
 },
 "nbformat": 4,
 "nbformat_minor": 5
}
